{
  "nbformat": 4,
  "nbformat_minor": 0,
  "metadata": {
    "colab": {
      "provenance": [],
      "authorship_tag": "ABX9TyO/+6dmWE5rZufWlFmdWAIT",
      "include_colab_link": true
    },
    "kernelspec": {
      "name": "python3",
      "display_name": "Python 3"
    },
    "language_info": {
      "name": "python"
    }
  },
  "cells": [
    {
      "cell_type": "markdown",
      "metadata": {
        "id": "view-in-github",
        "colab_type": "text"
      },
      "source": [
        "<a href=\"https://colab.research.google.com/github/sairam050/ai-project-risk-predictor/blob/main/Untitled0.ipynb\" target=\"_parent\"><img src=\"https://colab.research.google.com/assets/colab-badge.svg\" alt=\"Open In Colab\"/></a>"
      ]
    },
    {
      "cell_type": "code",
      "execution_count": 1,
      "metadata": {
        "colab": {
          "base_uri": "https://localhost:8080/"
        },
        "id": "ZUy9lBRU_Y0b",
        "outputId": "3ffcd06a-8c94-4d2f-994b-b16cec731917"
      },
      "outputs": [
        {
          "output_type": "stream",
          "name": "stdout",
          "text": [
            "Synthetic dataset saved to synthetic_projects.csv; sample:\n",
            "   planned_duration_days  team_size  budget_k  num_change_requests  \\\n",
            "0                    132         38       544                    1   \n",
            "1                    465         17      4922                    2   \n",
            "2                    378          7      1466                    2   \n",
            "3                    300          9       360                    1   \n",
            "4                    136         26      3609                    2   \n",
            "\n",
            "   pct_resource_util  complexity_score  onshore_pct  delay_days  risk_flag  \n",
            "0           0.868018          0.256520     0.496097          31          1  \n",
            "1           1.011981          0.053330     0.460956          36          0  \n",
            "2           0.477176          0.965400     0.708391          67          1  \n",
            "3           0.814829          0.852011     0.089711          73          1  \n",
            "4           1.069266          0.913185     0.644855          50          1  \n",
            "Baseline Risk Classifier AUC: 0.898\n",
            "              precision    recall  f1-score   support\n",
            "\n",
            "           0       0.74      0.59      0.66        76\n",
            "           1       0.91      0.95      0.93       324\n",
            "\n",
            "    accuracy                           0.88       400\n",
            "   macro avg       0.82      0.77      0.79       400\n",
            "weighted avg       0.88      0.88      0.88       400\n",
            "\n",
            "Baseline Delay Regression MAE: 9.34 days\n",
            "Models saved: rf_risk_classifier.joblib, rf_delay_regressor.joblib\n",
            "\n",
            "NEXT STEPS (recommended):\n",
            " - Perform detailed EDA (correlations, missing values, distributions)\n",
            " - Feature engineering: add derived features (change request rate, buffer ratio, resource volatility)\n",
            " - Try XGBoost/LightGBM and cross-validation; tune hyperparameters\n",
            " - Use SHAP for explainability and create a Streamlit demo app\n",
            " - Create a one-page executive summary and a 3-minute demo video\n"
          ]
        }
      ],
      "source": [
        "# AI Project Risk Predictor - Starter Colab Script\n",
        "# Run this in Google Colab. Execute cells in order.\n",
        "#\n",
        "# Overview:\n",
        "# 1) Generate or load a project dataset (synthetic example included)\n",
        "# 2) EDA and feature engineering\n",
        "# 3) Train baseline models for (a) risk classification and (b) delay regression\n",
        "# 4) Evaluate, save models, and produce simple explanations (SHAP)\n",
        "#\n",
        "# Note: install packages in Colab before running heavy cells:\n",
        "#   !pip install -q scikit-learn xgboost shap pandas numpy matplotlib joblib\n",
        "\n",
        "# ---------- Imports ----------\n",
        "import numpy as np\n",
        "import pandas as pd\n",
        "from sklearn.model_selection import train_test_split\n",
        "from sklearn.ensemble import RandomForestClassifier, RandomForestRegressor\n",
        "from sklearn.metrics import roc_auc_score, classification_report, mean_absolute_error\n",
        "import joblib\n",
        "\n",
        "# ---------- 1) Synthetic dataset generation (quick start) ----------\n",
        "rng = np.random.RandomState(42)\n",
        "n = 2000\n",
        "df = pd.DataFrame({\n",
        "    'planned_duration_days': rng.randint(30, 540, size=n),\n",
        "    'team_size': rng.randint(2, 40, size=n),\n",
        "    'budget_k': rng.randint(5, 5000, size=n),\n",
        "    'num_change_requests': rng.poisson(2, size=n),\n",
        "    'pct_resource_util': rng.uniform(0.4, 1.3, size=n),\n",
        "    'complexity_score': rng.uniform(0,1,size=n),\n",
        "    'onshore_pct': rng.uniform(0,1,size=n)\n",
        "})\n",
        "# Simulated delay (days) with noise\n",
        "df['delay_days'] = (df['num_change_requests']*6 + (df['planned_duration_days']/120)*4 + (df['complexity_score']*40)\n",
        "                    + (1 - df['onshore_pct'])*5 + rng.normal(0,12,size=n)).round().astype(int)\n",
        "df['delay_days'] = df['delay_days'].clip(lower=0)\n",
        "# Binary risk flag: delay > 10% of planned duration\n",
        "df['risk_flag'] = (df['delay_days'] > (df['planned_duration_days'] * 0.10)).astype(int)\n",
        "\n",
        "df.to_csv('synthetic_projects.csv', index=False)\n",
        "print(\"Synthetic dataset saved to synthetic_projects.csv; sample:\")\n",
        "print(df.head())\n",
        "\n",
        "# ---------- 2) Train/test split ----------\n",
        "features = ['planned_duration_days','team_size','budget_k','num_change_requests','pct_resource_util','complexity_score','onshore_pct']\n",
        "X = df[features]\n",
        "y_class = df['risk_flag']\n",
        "y_reg = df['delay_days']\n",
        "\n",
        "X_train, X_test, yc_train, yc_test, yr_train, yr_test = train_test_split(X, y_class, y_reg, test_size=0.2, random_state=42)\n",
        "\n",
        "# ---------- 3) Baseline classification model (risk) ----------\n",
        "clf = RandomForestClassifier(n_estimators=100, random_state=42, n_jobs=-1)\n",
        "clf.fit(X_train, yc_train)\n",
        "probs = clf.predict_proba(X_test)[:,1]\n",
        "auc = roc_auc_score(yc_test, probs)\n",
        "print(f\"Baseline Risk Classifier AUC: {auc:.3f}\")\n",
        "print(classification_report(yc_test, clf.predict(X_test)))\n",
        "\n",
        "# ---------- 4) Baseline regression model (delay days) ----------\n",
        "reg = RandomForestRegressor(n_estimators=100, random_state=42, n_jobs=-1)\n",
        "reg.fit(X_train, yr_train)\n",
        "preds = reg.predict(X_test)\n",
        "mae = mean_absolute_error(yr_test, preds)\n",
        "print(f\"Baseline Delay Regression MAE: {mae:.2f} days\")\n",
        "\n",
        "# ---------- 5) Save models ----------\n",
        "joblib.dump(clf, 'rf_risk_classifier.joblib')\n",
        "joblib.dump(reg, 'rf_delay_regressor.joblib')\n",
        "print(\"Models saved: rf_risk_classifier.joblib, rf_delay_regressor.joblib\")\n",
        "\n",
        "# ---------- 6) Next steps (in Colab) ----------\n",
        "print(\"\\nNEXT STEPS (recommended):\")\n",
        "print(\" - Perform detailed EDA (correlations, missing values, distributions)\")\n",
        "print(\" - Feature engineering: add derived features (change request rate, buffer ratio, resource volatility)\")\n",
        "print(\" - Try XGBoost/LightGBM and cross-validation; tune hyperparameters\")\n",
        "print(\" - Use SHAP for explainability and create a Streamlit demo app\")\n",
        "print(\" - Create a one-page executive summary and a 3-minute demo video\")"
      ]
    },
    {
      "cell_type": "code",
      "source": [
        "!pip install -q scikit-learn xgboost shap pandas numpy matplotlib joblib\n"
      ],
      "metadata": {
        "id": "ybV25xu7BQTP"
      },
      "execution_count": 3,
      "outputs": []
    },
    {
      "cell_type": "code",
      "source": [
        "!ls -lh\n"
      ],
      "metadata": {
        "colab": {
          "base_uri": "https://localhost:8080/"
        },
        "id": "vOdqKtDABbex",
        "outputId": "0d8349e7-1713-4f67-c72d-70f0bdf5e84e"
      },
      "execution_count": 4,
      "outputs": [
        {
          "output_type": "stream",
          "name": "stdout",
          "text": [
            "total 16M\n",
            "-rw-r--r-- 1 root root  13M Sep 25 22:36 rf_delay_regressor.joblib\n",
            "-rw-r--r-- 1 root root 3.1M Sep 25 22:36 rf_risk_classifier.joblib\n",
            "drwxr-xr-x 1 root root 4.0K Sep 24 13:41 sample_data\n",
            "-rw-r--r-- 1 root root 149K Sep 25 22:35 synthetic_projects.csv\n"
          ]
        }
      ]
    }
  ]
}